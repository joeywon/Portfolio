{
 "cells": [
  {
   "cell_type": "code",
   "execution_count": 1,
   "id": "ffbcad2f",
   "metadata": {},
   "outputs": [],
   "source": [
    "#import modul\n",
    "import pandas as pd\n",
    "import numpy as np\n",
    "from openpyxl import Workbook, load_workbook\n",
    "from openpyxl.utils.dataframe import dataframe_to_rows\n",
    "from openpyxl.utils import get_column_letter\n",
    "import getpass\n"
   ]
  },
  {
   "cell_type": "code",
   "execution_count": 2,
   "id": "a38e2238",
   "metadata": {},
   "outputs": [],
   "source": [
    "#get username\n",
    "user = getpass.getuser()\n",
    "\n",
    "#read data\n",
    "data = pd.read_csv('C:/Users/'+user+'/Desktop/taskspendingbytechnician.csv')\n",
    "data.loc[0] = list(data)"
   ]
  },
  {
   "cell_type": "code",
   "execution_count": 3,
   "id": "640e6490",
   "metadata": {},
   "outputs": [],
   "source": [
    "#change columns name\n",
    "for i in data.columns:\n",
    "    data.rename(columns = {i:i[:7]},inplace = True)"
   ]
  },
  {
   "cell_type": "code",
   "execution_count": 4,
   "id": "145d42ed",
   "metadata": {},
   "outputs": [],
   "source": [
    "#listing columns\n",
    "a = list(data.columns)\n",
    "\n",
    "#select keep columns number\n",
    "b = a.index('Case De') +1\n",
    "c = a.index('N/A') + 1"
   ]
  },
  {
   "cell_type": "code",
   "execution_count": 5,
   "id": "f00d1751",
   "metadata": {},
   "outputs": [],
   "source": [
    "#select Case # to N/A columns\n",
    "new = data.iloc[:, b:c]"
   ]
  },
  {
   "cell_type": "code",
   "execution_count": 6,
   "id": "f3319ce1",
   "metadata": {},
   "outputs": [],
   "source": [
    "#delete date in/ ship date/ case due columns\n",
    "\n",
    "#listing columns\n",
    "d = list(new.columns)\n",
    "\n",
    "#select keep columns number\n",
    "e = d.index('Date In') \n",
    "f = d.index('Case Du') +1 \n",
    "g = list(new.columns[e:f])\n",
    "\n",
    "new = new.drop(g, axis=1)"
   ]
  },
  {
   "cell_type": "code",
   "execution_count": 7,
   "id": "9923eddd",
   "metadata": {},
   "outputs": [],
   "source": [
    "#delete trash column after date \n",
    "\n",
    "#listing columns\n",
    "h = list(new.columns)\n",
    "\n",
    "#select keep columns number\n",
    "i = h.index('Patient') +2\n",
    "k = list(new.columns[i:i+1])\n",
    "\n",
    "new = new.drop(k, axis=1)\n"
   ]
  },
  {
   "cell_type": "code",
   "execution_count": 8,
   "id": "90def418",
   "metadata": {},
   "outputs": [],
   "source": [
    "#listing columns\n",
    "l = list(new.columns)\n",
    "\n",
    "#select keep columns number\n",
    "i = h.index('Patient') +3\n",
    "k = list(new.columns[i:i+3])\n",
    "\n",
    "new = new.drop(k, axis=1)"
   ]
  },
  {
   "cell_type": "code",
   "execution_count": 9,
   "id": "e0f4071c",
   "metadata": {},
   "outputs": [],
   "source": [
    "# 컬럼이름 바꾸기\n",
    "new.columns = ['Case #','Customer','Pan','Patioent','Task Date','Task','Dept']"
   ]
  },
  {
   "cell_type": "code",
   "execution_count": 10,
   "id": "ded603fd",
   "metadata": {},
   "outputs": [],
   "source": [
    "#change type\n",
    "new['Dept'] = new['Dept'].astype('object')\n",
    "new['Dept'].fillna('N/A', inplace=True)\n",
    "\n",
    "\n",
    "#save\n",
    "new.to_excel('C:/Users/'+user+'/Desktop/Pending Template.xlsx',index =False)"
   ]
  },
  {
   "cell_type": "code",
   "execution_count": 11,
   "id": "c588a441",
   "metadata": {},
   "outputs": [],
   "source": [
    "#read Exel\n",
    "wr = pd.ExcelWriter('C:/Users/'+user+'/Desktop/Pending Template.xlsx')\n"
   ]
  },
  {
   "cell_type": "code",
   "execution_count": 12,
   "id": "e1d270d9",
   "metadata": {},
   "outputs": [],
   "source": [
    "#filtering + save as sheet\n",
    "\n",
    "task_list = list(new['Task'].unique())\n",
    "\n",
    "for i in task_list:\n",
    "    new.loc[new['Task'] == i].to_excel(wr, sheet_name= i[:5]+i[-9:],index = False)\n",
    "\n",
    "wr.save()"
   ]
  },
  {
   "cell_type": "code",
   "execution_count": 13,
   "id": "beba472c",
   "metadata": {},
   "outputs": [],
   "source": [
    "#read file\n",
    "wb = load_workbook('C:/Users/'+user+'/Desktop/Pending Template.xlsx')\n",
    "\n",
    "#Get sheet name\n",
    "sheet_list = wb.sheetnames\n",
    "\n",
    "#Change all sheet's A to G columns's width \n",
    "\n",
    "for i in sheet_list:\n",
    "    for k in range(1,7):\n",
    "        wb[i].column_dimensions[get_column_letter(k)].width = 20\n",
    "        \n",
    "for i in sheet_list:\n",
    "    wb[i].column_dimensions['D'].width = 40  \n",
    "\n",
    "#sorting\n",
    "for i in sheet_list:\n",
    "    wb[i].auto_filter.ref = wb[i].dimensions  \n",
    "    \n",
    "    \n",
    "#save    \n",
    "wb.save('C:/Users/'+user+'/Desktop/Pending Template.xlsx')"
   ]
  },
  {
   "cell_type": "code",
   "execution_count": 14,
   "id": "df4c9e06",
   "metadata": {},
   "outputs": [],
   "source": [
    "# ----------------------------------------------------------------------------"
   ]
  }
 ],
 "metadata": {
  "kernelspec": {
   "display_name": "Python 3",
   "language": "python",
   "name": "python3"
  },
  "language_info": {
   "codemirror_mode": {
    "name": "ipython",
    "version": 3
   },
   "file_extension": ".py",
   "mimetype": "text/x-python",
   "name": "python",
   "nbconvert_exporter": "python",
   "pygments_lexer": "ipython3",
   "version": "3.8.8"
  },
  "varInspector": {
   "cols": {
    "lenName": 16,
    "lenType": 16,
    "lenVar": 40
   },
   "kernels_config": {
    "python": {
     "delete_cmd_postfix": "",
     "delete_cmd_prefix": "del ",
     "library": "var_list.py",
     "varRefreshCmd": "print(var_dic_list())"
    },
    "r": {
     "delete_cmd_postfix": ") ",
     "delete_cmd_prefix": "rm(",
     "library": "var_list.r",
     "varRefreshCmd": "cat(var_dic_list()) "
    }
   },
   "position": {
    "height": "592.841px",
    "left": "1375.45px",
    "right": "20px",
    "top": "120px",
    "width": "350px"
   },
   "types_to_exclude": [
    "module",
    "function",
    "builtin_function_or_method",
    "instance",
    "_Feature"
   ],
   "window_display": false
  }
 },
 "nbformat": 4,
 "nbformat_minor": 5
}
